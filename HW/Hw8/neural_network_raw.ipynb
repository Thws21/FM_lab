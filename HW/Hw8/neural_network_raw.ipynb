{
  "nbformat": 4,
  "nbformat_minor": 0,
  "metadata": {
    "kernelspec": {
      "display_name": "Python 3",
      "language": "python",
      "name": "python3"
    },
    "language_info": {
      "codemirror_mode": {
        "name": "ipython",
        "version": 3
      },
      "file_extension": ".py",
      "mimetype": "text/x-python",
      "name": "python",
      "nbconvert_exporter": "python",
      "pygments_lexer": "ipython3",
      "version": "3.7.10"
    },
    "colab": {
      "provenance": []
    }
  },
  "cells": [
    {
      "cell_type": "markdown",
      "metadata": {
        "id": "N66YjVSIGOWB"
      },
      "source": [
        "# Neural Network\n",
        "\n",
        "Xây dựng neural network với hai tầng ẩn (hidden layer).\n",
        "Các trọng số và mối liên hệ giữa các tầng ẩn được thiết lập\n",
        "và cài đặt bằng tay."
      ]
    },
    {
      "cell_type": "markdown",
      "metadata": {
        "id": "MJJUMXZm0Z09"
      },
      "source": [
        "## Neural Network Overview\n",
        "\n",
        "<img src=\"http://cs231n.github.io/assets/nn1/neural_net2.jpeg\" alt=\"nn\" style=\"width: 400px;\"/>\n",
        "\n",
        "## MNIST Dataset Overview\n",
        "\n",
        "MNIST là bộ dữ liệu chứa các ảnh là các ký tự viết tay, chia thành 2 phần, 60000 ảnh dùng để huấn luyện và 10000 ảnh dùng để kiểm thử. Kích thước các ảnh là 28x28, giá trị các pixel thuộc [0,255]\n",
        "\n",
        "\n",
        "![MNIST Dataset](http://neuralnetworksanddeeplearning.com/images/mnist_100_digits.png)\n",
        "\n",
        "More info: http://yann.lecun.com/exdb/mnist/"
      ]
    },
    {
      "cell_type": "code",
      "metadata": {
        "id": "oAaeWJSHFWNY"
      },
      "source": [
        "import numpy as np\n",
        "import pandas as pd\n",
        "from matplotlib import pyplot as plt"
      ],
      "execution_count": 1,
      "outputs": []
    },
    {
      "cell_type": "code",
      "metadata": {
        "id": "vK9mCRnyZ7N_"
      },
      "source": [
        "# MNIST dataset parameters.\n",
        "num_classes = 10 # total classes (0-9 digits).\n",
        "num_features = 784 # data features (img shape: 28*28).\n",
        "\n",
        "# Network parameters.\n",
        "n_hidden_1 = 128 # 1st layer number of neurons.\n",
        "# n_hidden_2 = 256 # 2nd layer number of neurons."
      ],
      "execution_count": 2,
      "outputs": []
    },
    {
      "cell_type": "code",
      "metadata": {
        "id": "MA2BiAiIFWNZ",
        "colab": {
          "base_uri": "https://localhost:8080/"
        },
        "outputId": "5f0f7e8d-5410-4d3e-8499-78062b4f9f2e"
      },
      "source": [
        "# Chuẩn bị dữ liệu\n",
        "from tensorflow.keras.datasets import mnist\n",
        "(x_train, y_train), (x_test, y_test) = mnist.load_data()\n",
        "# Chuyển đổi sang định dạng float32.\n",
        "x_train, x_test = np.array(x_train, np.float32), np.array(x_test, np.float32)\n",
        "x_train, x_test = x_train.reshape([-1, num_features]).T, x_test.reshape([-1, num_features]).T\n",
        "# Chuẩn hóa ảnh từ from [0, 255] to [0, 1].\n",
        "x_train, x_test = x_train / 255., x_test / 255."
      ],
      "execution_count": 3,
      "outputs": [
        {
          "output_type": "stream",
          "name": "stdout",
          "text": [
            "Downloading data from https://storage.googleapis.com/tensorflow/tf-keras-datasets/mnist.npz\n",
            "\u001b[1m11490434/11490434\u001b[0m \u001b[32m━━━━━━━━━━━━━━━━━━━━\u001b[0m\u001b[37m\u001b[0m \u001b[1m0s\u001b[0m 0us/step\n"
          ]
        }
      ]
    },
    {
      "cell_type": "code",
      "metadata": {
        "id": "jcaFeUNOWUzl"
      },
      "source": [
        "m = x_train.shape[0]"
      ],
      "execution_count": 4,
      "outputs": []
    },
    {
      "cell_type": "code",
      "metadata": {
        "id": "Nyz6gRsPbHdB"
      },
      "source": [
        "def cross_entropy(predictions, targets, epsilon=1e-12):\n",
        "    \"\"\"\n",
        "    Computes cross entropy between targets (encoded as one-hot vectors)\n",
        "    and predictions.\n",
        "    Input: predictions (N, k) ndarray\n",
        "           targets (N, k) ndarray\n",
        "    Returns: scalar\n",
        "    \"\"\"\n",
        "    predictions = np.clip(predictions, epsilon, 1. - epsilon)\n",
        "    N = predictions.shape[0]\n",
        "    ce = -np.sum(targets*np.log(predictions+1e-9))/N\n",
        "    return ce"
      ],
      "execution_count": 5,
      "outputs": []
    },
    {
      "cell_type": "code",
      "metadata": {
        "id": "O9cCERHQVJIx"
      },
      "source": [
        "def init_params():\n",
        "    W1 = np.random.rand(n_hidden_1, 784) - 0.5\n",
        "    b1 = np.random.rand(n_hidden_1, 1) - 0.5\n",
        "    W2 = np.random.rand(num_classes, n_hidden_1) - 0.5\n",
        "    b2 = np.random.rand(num_classes, 1) - 0.5\n",
        "    return W1, b1, W2, b2\n",
        "\n",
        "def ReLU(Z):\n",
        "    return np.maximum(Z, 0)\n",
        "\n",
        "def softmax(Z):\n",
        "    A = np.exp(Z) / sum(np.exp(Z))\n",
        "    return A\n",
        "\n",
        "def cross_entropy(predictions, targets, epsilon=1e-12):\n",
        "    \"\"\"\n",
        "    tính giá trị cross entropy giữa targets và predictions.\n",
        "    Input: predictions (N, k)\n",
        "           targets (N, k)\n",
        "    Returns: scalar\n",
        "    \"\"\"\n",
        "    predictions = np.clip(predictions, epsilon, 1. - epsilon)\n",
        "    N = predictions.shape[0]\n",
        "    ce = -np.sum(targets*np.log(predictions+1e-9))/N\n",
        "    return ce\n",
        "\n",
        "def forward_prop(W1, b1, W2, b2, X):\n",
        "    Z1 = W1.dot(X) + b1\n",
        "    A1 = ReLU(Z1)\n",
        "    Z2 = W2.dot(A1) + b2\n",
        "    A2 = softmax(Z2)\n",
        "    return Z1, A1, Z2, A2\n",
        "\n",
        "def ReLU_deriv(Z):\n",
        "    return Z > 0\n",
        "\n",
        "def one_hot(Y):\n",
        "    one_hot_Y = np.zeros((Y.size, Y.max() + 1))\n",
        "    one_hot_Y[np.arange(Y.size), Y] = 1\n",
        "    one_hot_Y = one_hot_Y.T\n",
        "    return one_hot_Y\n",
        "\n",
        "def backward_prop(Z1, A1, Z2, A2, W1, W2, X, Y):\n",
        "    one_hot_Y = one_hot(Y)\n",
        "    dZ2 = A2 - one_hot_Y\n",
        "    dW2 = 1 / m * dZ2.dot(A1.T)\n",
        "    db2 = 1 / m * np.sum(dZ2)\n",
        "    dZ1 = W2.T.dot(dZ2) * ReLU_deriv(Z1)\n",
        "    dW1 = 1 / m * dZ1.dot(X.T)\n",
        "    db1 = 1 / m * np.sum(dZ1)\n",
        "    return dW1, db1, dW2, db2\n",
        "\n",
        "def update_params(W1, b1, W2, b2, dW1, db1, dW2, db2, alpha):\n",
        "    W1 = W1 - alpha * dW1\n",
        "    b1 = b1 - alpha * db1\n",
        "    W2 = W2 - alpha * dW2\n",
        "    b2 = b2 - alpha * db2\n",
        "    return W1, b1, W2, b2"
      ],
      "execution_count": 13,
      "outputs": []
    },
    {
      "cell_type": "code",
      "metadata": {
        "id": "SPbEwUz2VJLg"
      },
      "source": [
        "losses = []\n",
        "def get_predictions(A2):\n",
        "    return np.argmax(A2, 0)\n",
        "\n",
        "def get_accuracy(predictions, Y):\n",
        "    # print(predictions, Y)\n",
        "    return np.sum(predictions == Y) / Y.size\n",
        "\n",
        "def gradient_descent(X, Y, alpha, iterations):\n",
        "    W1, b1, W2, b2 = init_params()\n",
        "    for i in range(iterations):\n",
        "        Z1, A1, Z2, A2 = forward_prop(W1, b1, W2, b2, X)\n",
        "        dW1, db1, dW2, db2 = backward_prop(Z1, A1, Z2, A2, W1, W2, X, Y)\n",
        "        W1, b1, W2, b2 = update_params(W1, b1, W2, b2, dW1, db1, dW2, db2, alpha)\n",
        "        predictions = get_predictions(A2)\n",
        "        losses.append(cross_entropy(predictions, Y))\n",
        "        if i % 10 == 9:\n",
        "            # print(\"Iteration: \", i+1)\n",
        "            # predictions = get_predictions(A2)\n",
        "            # print('Accuracy: %.3f' %(get_accuracy(predictions, Y)))\n",
        "            print('Iteration: %d, accuracy: %.3f' %(i + 1, get_accuracy(predictions, Y)))\n",
        "    return W1, b1, W2, b2"
      ],
      "execution_count": 14,
      "outputs": []
    },
    {
      "cell_type": "code",
      "metadata": {
        "id": "3No--X8yVJOV",
        "colab": {
          "base_uri": "https://localhost:8080/"
        },
        "outputId": "d225ae37-a74e-4c8f-8ce2-e0a32c3fd049"
      },
      "source": [
        "alpha = 0.01\n",
        "n_epoch = 100\n",
        "W1, b1, W2, b2 = gradient_descent(x_train, y_train, alpha, 100)"
      ],
      "execution_count": 15,
      "outputs": [
        {
          "output_type": "stream",
          "name": "stdout",
          "text": [
            "Iteration: 10, accuracy: 0.470\n",
            "Iteration: 20, accuracy: 0.643\n",
            "Iteration: 30, accuracy: 0.731\n",
            "Iteration: 40, accuracy: 0.826\n",
            "Iteration: 50, accuracy: 0.844\n",
            "Iteration: 60, accuracy: 0.846\n",
            "Iteration: 70, accuracy: 0.874\n",
            "Iteration: 80, accuracy: 0.883\n",
            "Iteration: 90, accuracy: 0.889\n",
            "Iteration: 100, accuracy: 0.891\n"
          ]
        }
      ]
    },
    {
      "cell_type": "code",
      "metadata": {
        "colab": {
          "base_uri": "https://localhost:8080/",
          "height": 430
        },
        "id": "zTtYkwxsVJQ0",
        "outputId": "52832ff9-0aa8-4d21-ddce-12105f571713"
      },
      "source": [
        "# Biểu đồ biểu diễn độ biến thiên của hàm mất mát qua các vòng lặp\n",
        "plt.plot([i for i in range(len(losses))], losses, label='Loss line')\n",
        "# plt.plot(X, np.array(W * X + b), label='Fitted line')\n",
        "plt.legend()\n",
        "plt.show()"
      ],
      "execution_count": 16,
      "outputs": [
        {
          "output_type": "display_data",
          "data": {
            "text/plain": [
              "<Figure size 640x480 with 1 Axes>"
            ],
            "image/png": "[encoded data removed]"
          },
          "metadata": {}
        }
      ]
    },
    {
      "cell_type": "code",
      "metadata": {
        "id": "DSOHZBXHVJTN"
      },
      "source": [],
      "execution_count": null,
      "outputs": []
    },
    {
      "cell_type": "code",
      "metadata": {
        "id": "Z6nVysFgVJVv"
      },
      "source": [],
      "execution_count": null,
      "outputs": []
    },
    {
      "cell_type": "code",
      "metadata": {
        "id": "N2FkE1tfVJX-"
      },
      "source": [],
      "execution_count": null,
      "outputs": []
    },
    {
      "cell_type": "code",
      "metadata": {
        "id": "ZBzIdIqOVJcQ"
      },
      "source": [],
      "execution_count": null,
      "outputs": []
    },
    {
      "cell_type": "code",
      "metadata": {
        "id": "vPFkJRlfVJe1"
      },
      "source": [],
      "execution_count": null,
      "outputs": []
    }
  ]
}
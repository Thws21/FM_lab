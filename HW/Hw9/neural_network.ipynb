{
  "cells": [
    {
      "cell_type": "markdown",
      "metadata": {
        "id": "3x9uySjxDhZ0"
      },
      "source": [
        "# Neural Network Example\n",
        "\n",
        "Xây dựng neural network với hai tầng ẩn (hidden layer). Các trọng số và mối liên hệ giữa các tầng ẩn được thiết lập và cài đặt bằng việc sử dụng API của thư viện PyTorch"
      ]
    },
    {
      "cell_type": "markdown",
      "metadata": {
        "id": "t_U1OnHRDhZ4"
      },
      "source": [
        "## Neural Network Overview\n",
        "\n",
        "<img src=\"http://cs231n.github.io/assets/nn1/neural_net2.jpeg\" alt=\"nn\" style=\"width: 400px;\"/>\n",
        "\n",
        "## MNIST Dataset Overview\n",
        "\n"
      ]
    },
    {
      "cell_type": "code",
      "execution_count": 2,
      "metadata": {
        "id": "qdOjSpvgDhZ5"
      },
      "outputs": [],
      "source": [
        "from __future__ import absolute_import, division, print_function\n",
        "\n",
        "import torch\n",
        "import torch.nn as nn\n",
        "import torch.nn.functional as F\n",
        "import torch.optim as optim\n",
        "import torchvision\n",
        "import torchvision.transforms as transforms\n",
        "from torch.autograd import Variable\n",
        "import numpy as np"
      ]
    },
    {
      "cell_type": "code",
      "execution_count": 3,
      "metadata": {
        "id": "VozvoFF6gXDB",
        "colab": {
          "base_uri": "https://localhost:8080/"
        },
        "outputId": "225deab0-d37e-45b6-c441-5e00ce68f6c7"
      },
      "outputs": [
        {
          "output_type": "stream",
          "name": "stdout",
          "text": [
            "Downloading data from https://storage.googleapis.com/tensorflow/tf-keras-datasets/mnist.npz\n",
            "\u001b[1m11490434/11490434\u001b[0m \u001b[32m━━━━━━━━━━━━━━━━━━━━\u001b[0m\u001b[37m\u001b[0m \u001b[1m0s\u001b[0m 0us/step\n"
          ]
        }
      ],
      "source": [
        "# Chuẩn bị dữ liệu\n",
        "from tensorflow.keras.datasets import mnist\n",
        "(x_train, y_train), (x_test, y_test) = mnist.load_data()\n",
        "# Chuyển đổi sang định dạng float32.\n",
        "x_train, x_test = np.array(x_train, np.float32), np.array(x_test, np.float32)\n",
        "# Chuẩn hóa ảnh từ from [0, 255] to [0, 1].\n",
        "x_train, x_test = x_train / 255, x_test / 255\n",
        "x_train, x_test, y_train, y_test = torch.from_numpy(x_train), torch.from_numpy(x_test), torch.from_numpy(y_train).type(torch.LongTensor), torch.from_numpy(y_test).type(torch.LongTensor)"
      ]
    },
    {
      "cell_type": "code",
      "execution_count": 4,
      "metadata": {
        "id": "2l0-L8j1pTAo"
      },
      "outputs": [],
      "source": [
        "# MNIST dataset parameters.\n",
        "num_classes = 10 # total classes (0-9 digits).\n",
        "num_features = 784 # data features (img shape: 28*28).\n",
        "\n",
        "# Network parameters.\n",
        "n_hidden_1 = 128 # 1st layer number of neurons.\n",
        "# n_hidden_2 = 256 # 2nd layer number of neurons."
      ]
    },
    {
      "cell_type": "code",
      "execution_count": 5,
      "metadata": {
        "id": "DmRW7160DhZ5"
      },
      "outputs": [],
      "source": [
        "batch_size = 16"
      ]
    },
    {
      "cell_type": "code",
      "execution_count": 6,
      "metadata": {
        "id": "jlCutM-HgnGm"
      },
      "outputs": [],
      "source": [
        "trainloader = []\n",
        "for (i,j) in zip(x_train, y_train):\n",
        "    trainloader.append([i,j])\n",
        "trainloader = torch.utils.data.DataLoader(trainloader, shuffle=True, batch_size=batch_size)\n",
        "\n",
        "testloader = []\n",
        "for (i,j) in zip(x_test, y_test):\n",
        "    testloader.append([i,j])\n",
        "testloader = torch.utils.data.DataLoader(testloader, shuffle=True, batch_size=batch_size)"
      ]
    },
    {
      "cell_type": "markdown",
      "metadata": {
        "id": "2ozBMqxygTt3"
      },
      "source": [
        "## Hiển thị một vài ví dụ"
      ]
    },
    {
      "cell_type": "code",
      "execution_count": 7,
      "metadata": {
        "colab": {
          "base_uri": "https://localhost:8080/",
          "height": 264
        },
        "id": "OKzi3NK4INqd",
        "outputId": "7c6a8a5d-ecdc-4eda-a6e3-07ea09615ded"
      },
      "outputs": [
        {
          "output_type": "display_data",
          "data": {
            "text/plain": [
              "<Figure size 2500x400 with 16 Axes>"
            ],
            "image/png": "[encoded data removed]"
          },
          "metadata": {}
        }
      ],
      "source": [
        "import matplotlib.pyplot as plt\n",
        "%matplotlib inline\n",
        "\n",
        "dataiter = iter(trainloader)\n",
        "images, labels = next(dataiter)\n",
        "images = images.numpy()\n",
        "\n",
        "# hiển thị dữ liệu theo từng batch và nhãn tương ứng\n",
        "fig = plt.figure(figsize=(25, 4))\n",
        "for idx in np.arange(batch_size):\n",
        "    ax = fig.add_subplot(2, int(batch_size/2), idx+1, xticks=[], yticks=[])\n",
        "    ax.imshow(np.squeeze(images[idx]), cmap='gray')\n",
        "    ax.set_title(str(labels[idx].item()))"
      ]
    },
    {
      "cell_type": "code",
      "execution_count": 8,
      "metadata": {
        "colab": {
          "base_uri": "https://localhost:8080/"
        },
        "id": "Rql7CBYODhZ6",
        "outputId": "ae266000-7e79-4885-e22c-9bc00ea79842"
      },
      "outputs": [
        {
          "output_type": "stream",
          "name": "stdout",
          "text": [
            "MLPModel(\n",
            "  (fc1): Linear(in_features=784, out_features=128, bias=True)\n",
            "  (fc2): Linear(in_features=128, out_features=10, bias=True)\n",
            ")\n"
          ]
        }
      ],
      "source": [
        "import torch.nn as nn\n",
        "import torch.nn.functional as F\n",
        "\n",
        "## định nghĩa mạng\n",
        "class MLPModel(nn.Module):\n",
        "    def __init__(self):\n",
        "        super(MLPModel, self).__init__()\n",
        "        self.fc1 = nn.Linear(num_features, n_hidden_1)\n",
        "        # linear layer (n_hidden -> hidden_2)\n",
        "        self.fc2 = nn.Linear(n_hidden_1, num_classes)\n",
        "\n",
        "    def forward(self, x):\n",
        "        # chuyển từ định dạng ma trận thành vector\n",
        "        x = x.view(-1, 28 * 28)\n",
        "        # add hidden layer, with relu activation function\n",
        "        x = F.relu(self.fc1(x))\n",
        "        x = F.relu(self.fc2(x))\n",
        "        return x\n",
        "\n",
        "# initialize the NN\n",
        "model = MLPModel()\n",
        "print(model)"
      ]
    },
    {
      "cell_type": "code",
      "execution_count": 9,
      "metadata": {
        "id": "hCTP3kWMng7e"
      },
      "outputs": [],
      "source": [
        "import torch.optim as optim\n",
        "# trong hàm loss cross entropy đã áp dụng hàm soft max cho vector đầu ra\n",
        "criterion = nn.CrossEntropyLoss()\n",
        "optimizer = optim.SGD(model.parameters(), lr=0.01)"
      ]
    },
    {
      "cell_type": "code",
      "execution_count": 10,
      "metadata": {
        "id": "F08Eg4vfmtOQ"
      },
      "outputs": [],
      "source": [
        "def accuracy():\n",
        "    correct = 0\n",
        "    total = 0\n",
        "    # since we're not training, we don't need to calculate the gradients for our outputs\n",
        "    with torch.no_grad():\n",
        "        for data in testloader:\n",
        "            images, labels = data\n",
        "            # calculate outputs by running images through the network\n",
        "            outputs = model(images)\n",
        "            # the class with the highest energy is what we choose as prediction\n",
        "            _, predicted = torch.max(outputs.data, 1)\n",
        "            total += labels.size(0)\n",
        "            correct += (predicted == labels).sum().item()\n",
        "\n",
        "    return correct/total"
      ]
    },
    {
      "cell_type": "code",
      "execution_count": 11,
      "metadata": {
        "colab": {
          "base_uri": "https://localhost:8080/"
        },
        "id": "NDl_S1CynsUR",
        "outputId": "fa98d073-bddf-4719-d914-41362a075d58"
      },
      "outputs": [
        {
          "output_type": "stream",
          "name": "stdout",
          "text": [
            "Iteration: 10, accuracy: 0.870\n",
            "Finished Training\n"
          ]
        }
      ],
      "source": [
        "losses = []\n",
        "for epoch in range(10):  # loop over the dataset multiple times\n",
        "\n",
        "    running_loss = 0.0\n",
        "    for i, data in enumerate(trainloader, 0):\n",
        "        # get the inputs; data is a list of [inputs, labels]\n",
        "        inputs, labels = data\n",
        "\n",
        "        # zero the parameter gradients\n",
        "        optimizer.zero_grad()\n",
        "\n",
        "        # forward + backward + optimize\n",
        "        outputs = model(inputs)\n",
        "        loss = criterion(outputs, labels)\n",
        "        loss.backward()\n",
        "        optimizer.step()\n",
        "\n",
        "        # print statistics\n",
        "        running_loss += loss.item()\n",
        "    losses.append(running_loss)\n",
        "    if epoch % 10 == 9:\n",
        "        print('Iteration: %d, accuracy: %.3f' %(epoch + 1, accuracy()))\n",
        "\n",
        "print('Finished Training')"
      ]
    },
    {
      "cell_type": "code",
      "execution_count": 12,
      "metadata": {
        "colab": {
          "base_uri": "https://localhost:8080/",
          "height": 430
        },
        "id": "wULStpofn6KQ",
        "outputId": "8f0a4860-3723-459e-e8d5-21c0e020f288"
      },
      "outputs": [
        {
          "output_type": "display_data",
          "data": {
            "text/plain": [
              "<Figure size 640x480 with 1 Axes>"
            ],
            "image/png": "[encoded data removed]"
          },
          "metadata": {}
        }
      ],
      "source": [
        "# Biểu đồ biểu diễn độ biến thiên của hàm mất mát qua các vòng lặp\n",
        "plt.plot([i for i in range(len(losses))], losses, label='Loss line')\n",
        "# plt.plot(X, np.array(W * X + b), label='Fitted line')\n",
        "plt.legend()\n",
        "plt.show()"
      ]
    },
    {
      "cell_type": "markdown",
      "metadata": {
        "id": "r9TNrG3r0OYV"
      },
      "source": [
        "## Bài tập\n",
        "\n",
        "*   Tiến hành huấn luyện mô hình với số lượng epoch lần lượt là 50, 100, 150.Rút ra nhận xét.\n",
        "\n"
      ]
    },
    {
      "cell_type": "markdown",
      "metadata": {
        "id": "ByD_DioQ0n58"
      },
      "source": [
        "\n",
        "\n",
        "*   Hiển thị một số kết quả\n",
        "\n"
      ]
    },
    {
      "cell_type": "code",
      "execution_count": 13,
      "metadata": {
        "colab": {
          "base_uri": "https://localhost:8080/",
          "height": 264
        },
        "id": "EPVrejvmDhZ_",
        "outputId": "048a6584-2f35-459a-f8ed-76db44192c29"
      },
      "outputs": [
        {
          "output_type": "display_data",
          "data": {
            "text/plain": [
              "<Figure size 2500x400 with 16 Axes>"
            ],
            "image/png": "[encoded data removed]"
          },
          "metadata": {}
        }
      ],
      "source": [
        "# obtain one batch of test images\n",
        "dataiter = iter(testloader)\n",
        "images, labels = next(dataiter)\n",
        "\n",
        "# get sample outputs\n",
        "output = model(images)\n",
        "# convert output probabilities to predicted class\n",
        "_, preds = torch.max(output, 1)\n",
        "# prep images for display\n",
        "images = images.numpy()\n",
        "\n",
        "# plot the images in the batch, along with predicted and true labels\n",
        "fig = plt.figure(figsize=(25, 4))\n",
        "for idx in np.arange(batch_size):\n",
        "    ax = fig.add_subplot(2, int(batch_size/2), idx+1, xticks=[], yticks=[])\n",
        "    ax.imshow(np.squeeze(images[idx]), cmap='gray')\n",
        "    ax.set_title(\"{} ({})\".format(str(preds[idx].item()), str(labels[idx].item())),\n",
        "                 color=(\"green\" if preds[idx]==labels[idx] else \"red\"))"
      ]
    },
    {
      "cell_type": "code",
      "execution_count": null,
      "metadata": {
        "id": "M64NL8UXhe00"
      },
      "outputs": [],
      "source": []
    },
    {
      "cell_type": "markdown",
      "metadata": {
        "id": "LZnmFyT3yvBd"
      },
      "source": [
        "## Bài tập\n",
        "\n",
        "*   Thiết lập thêm 3 mạng nơ ron với số tầng ẩn lần lượt là 3,5 (số lượng nơ ron của các tầng tùy ý). Với mỗi mạng mới được sinh ra, áp dụng learning-rate lần lượt bằng 0.1, 0,05, 0.001 để huấn luyện. Huấn luyện qua khoảng 100 epoch.\n",
        "*   Chia tập train hiện có thành 2 phần. **85%** dữ liệu làm tập **train**, **15%** còn lại làm tập **dev**. Huấn luyện các mô hình tạo ra ở bước trên với tập **train** mới, sau đó kiểm thử trên tập **dev**.\n",
        "* Dùng các model kiểm thử trên tập **test**. So sánh model cho kết quả tốt nhất khi kiểm thử trên 2 tập này và rút ra nhận xét về vai trò của tập **dev**\n",
        "\n"
      ]
    },
    {
      "cell_type": "code",
      "execution_count": 14,
      "metadata": {
        "colab": {
          "base_uri": "https://localhost:8080/",
          "height": 534
        },
        "id": "kHagR4zz1_Ek",
        "outputId": "da6cb464-cb0f-4b8d-dbb8-2c2e62dcdcb5"
      },
      "outputs": [
        {
          "output_type": "stream",
          "name": "stdout",
          "text": [
            "Iteration: 10, accuracy: 0.972\n",
            "Iteration: 20, accuracy: 0.976\n",
            "Iteration: 30, accuracy: 0.978\n",
            "Iteration: 40, accuracy: 0.978\n",
            "Iteration: 50, accuracy: 0.979\n",
            "Finished Training\n"
          ]
        },
        {
          "output_type": "display_data",
          "data": {
            "text/plain": [
              "<Figure size 640x480 with 1 Axes>"
            ],
            "image/png": "[encoded data removed]"
          },
          "metadata": {}
        }
      ],
      "source": [
        "losses_50 = []\n",
        "for epoch in range(50):  # loop over the dataset multiple times\n",
        "\n",
        "    running_loss = 0.0\n",
        "    for i, data in enumerate(trainloader, 0):\n",
        "        # get the inputs; data is a list of [inputs, labels]\n",
        "        inputs, labels = data\n",
        "\n",
        "        # zero the parameter gradients\n",
        "        optimizer.zero_grad()\n",
        "\n",
        "        # forward + backward + optimize\n",
        "        outputs = model(inputs)\n",
        "        loss = criterion(outputs, labels)\n",
        "        loss.backward()\n",
        "        optimizer.step()\n",
        "\n",
        "        # print statistics\n",
        "        running_loss += loss.item()\n",
        "    losses_50.append(running_loss)\n",
        "    if epoch % 10 == 9:\n",
        "        print('Iteration: %d, accuracy: %.3f' %(epoch + 1, accuracy()))\n",
        "\n",
        "print('Finished Training')\n",
        "\n",
        "# Biểu đồ biểu diễn độ biến thiên của hàm mất mát qua các vòng lặp\n",
        "plt.plot([i for i in range(len(losses_50))], losses_50, label='Loss line')\n",
        "# plt.plot(X, np.array(W * X + b), label='Fitted line')\n",
        "plt.legend()\n",
        "plt.show()"
      ]
    },
    {
      "cell_type": "code",
      "execution_count": 15,
      "metadata": {
        "colab": {
          "base_uri": "https://localhost:8080/",
          "height": 712
        },
        "id": "T3lQ8eU4LlFe",
        "outputId": "e21e0a6d-0bbb-4e23-b3ae-3ee47ff1cf42"
      },
      "outputs": [
        {
          "output_type": "stream",
          "name": "stdout",
          "text": [
            "Iteration: 10, accuracy: 0.980\n",
            "Iteration: 20, accuracy: 0.981\n",
            "Iteration: 30, accuracy: 0.980\n",
            "Iteration: 40, accuracy: 0.980\n",
            "Iteration: 50, accuracy: 0.980\n",
            "Iteration: 60, accuracy: 0.981\n",
            "Iteration: 70, accuracy: 0.981\n",
            "Iteration: 80, accuracy: 0.981\n",
            "Iteration: 90, accuracy: 0.981\n",
            "Iteration: 100, accuracy: 0.981\n",
            "Iteration: 110, accuracy: 0.981\n",
            "Iteration: 120, accuracy: 0.981\n",
            "Iteration: 130, accuracy: 0.981\n",
            "Iteration: 140, accuracy: 0.981\n",
            "Iteration: 150, accuracy: 0.981\n",
            "Finished Training\n"
          ]
        },
        {
          "output_type": "display_data",
          "data": {
            "text/plain": [
              "<Figure size 640x480 with 1 Axes>"
            ],
            "image/png": "[encoded data removed]"
          },
          "metadata": {}
        }
      ],
      "source": [
        "losses_150 = []\n",
        "for epoch in range(150):  # loop over the dataset multiple times\n",
        "\n",
        "    running_loss = 0.0\n",
        "    for i, data in enumerate(trainloader, 0):\n",
        "        # get the inputs; data is a list of [inputs, labels]\n",
        "        inputs, labels = data\n",
        "\n",
        "        # zero the parameter gradients\n",
        "        optimizer.zero_grad()\n",
        "\n",
        "        # forward + backward + optimize\n",
        "        outputs = model(inputs)\n",
        "        loss = criterion(outputs, labels)\n",
        "        loss.backward()\n",
        "        optimizer.step()\n",
        "\n",
        "        # print statistics\n",
        "        running_loss += loss.item()\n",
        "    losses_150.append(running_loss)\n",
        "    if epoch % 10 == 9:\n",
        "        print('Iteration: %d, accuracy: %.3f' %(epoch + 1, accuracy()))\n",
        "\n",
        "print('Finished Training')\n",
        "\n",
        "# Biểu đồ biểu diễn độ biến thiên của hàm mất mát qua các vòng lặp\n",
        "plt.plot([i for i in range(len(losses_150))], losses_150, label='Loss line')\n",
        "# plt.plot(X, np.array(W * X + b), label='Fitted line')\n",
        "plt.legend()\n",
        "plt.show()"
      ]
    },
    {
      "cell_type": "code",
      "execution_count": 16,
      "metadata": {
        "colab": {
          "base_uri": "https://localhost:8080/"
        },
        "id": "G8xVvvFeRDHY",
        "outputId": "e464229e-8f4e-41ac-d5a7-07569b9ddbc5"
      },
      "outputs": [
        {
          "output_type": "stream",
          "name": "stdout",
          "text": [
            "Số lượng mẫu trong tập train mới: 51000\n",
            "Số lượng mẫu trong tập dev: 9000\n",
            "Số lượng mẫu trong tập test: 10000\n"
          ]
        }
      ],
      "source": [
        "# Chuẩn bị dữ liệu\n",
        "from tensorflow.keras.datasets import mnist\n",
        "from torch.utils.data import random_split, DataLoader, TensorDataset\n",
        "(x_train, y_train), (x_test, y_test) = mnist.load_data()\n",
        "# Chuyển đổi sang định dạng float32.\n",
        "x_train, x_test = np.array(x_train, np.float32), np.array(x_test, np.float32)\n",
        "# Chuẩn hóa ảnh từ from [0, 255] to [0, 1].\n",
        "x_train, x_test = x_train / 255., x_test / 255.\n",
        "x_train, x_test, y_train, y_test = torch.from_numpy(x_train), torch.from_numpy(x_test), torch.from_numpy(y_train).type(torch.LongTensor), torch.from_numpy(y_test).type(torch.LongTensor)\n",
        "\n",
        "train_dataset = TensorDataset(x_train, y_train)\n",
        "test_dataset = TensorDataset(x_test, y_test)\n",
        "train_size = int(0.85 * len(train_dataset))\n",
        "dev_size = len(train_dataset) - train_size\n",
        "\n",
        "train_data, dev_data = random_split(train_dataset, [train_size, dev_size])\n",
        "\n",
        "train_loader = DataLoader(train_data, batch_size=batch_size, shuffle=True)\n",
        "dev_loader = DataLoader(dev_data, batch_size=batch_size, shuffle=False)\n",
        "test_loader = DataLoader(test_dataset, batch_size=batch_size, shuffle=False)\n",
        "\n",
        "print(f\"Số lượng mẫu trong tập train mới: {len(train_data)}\")\n",
        "print(f\"Số lượng mẫu trong tập dev: {len(dev_data)}\")\n",
        "print(f\"Số lượng mẫu trong tập test: {len(test_dataset)}\")"
      ]
    },
    {
      "cell_type": "code",
      "execution_count": 17,
      "metadata": {
        "colab": {
          "base_uri": "https://localhost:8080/"
        },
        "id": "FgOTWWCPRIFX",
        "outputId": "d4ae3667-3be6-498f-b6b7-6f03683c50a2"
      },
      "outputs": [
        {
          "output_type": "stream",
          "name": "stdout",
          "text": [
            "MLPModel_3(\n",
            "  (fc1): Linear(in_features=784, out_features=256, bias=True)\n",
            "  (fc2): Linear(in_features=256, out_features=128, bias=True)\n",
            "  (fc3): Linear(in_features=128, out_features=64, bias=True)\n",
            "  (fc4): Linear(in_features=64, out_features=10, bias=True)\n",
            ")\n",
            "MLPModel_5(\n",
            "  (fc1): Linear(in_features=784, out_features=512, bias=True)\n",
            "  (fc2): Linear(in_features=512, out_features=256, bias=True)\n",
            "  (fc3): Linear(in_features=256, out_features=128, bias=True)\n",
            "  (fc4): Linear(in_features=128, out_features=64, bias=True)\n",
            "  (fc5): Linear(in_features=64, out_features=32, bias=True)\n",
            "  (fc6): Linear(in_features=32, out_features=10, bias=True)\n",
            ")\n"
          ]
        }
      ],
      "source": [
        "## định nghĩa mạng\n",
        "class MLPModel_3(nn.Module):\n",
        "    def __init__(self):\n",
        "        super(MLPModel_3, self).__init__()\n",
        "        self.fc1 = nn.Linear(num_features, 256)\n",
        "        self.fc2 = nn.Linear(256, 128)\n",
        "        self.fc3 = nn.Linear(128, 64)\n",
        "        self.fc4 = nn.Linear(64, 10)\n",
        "\n",
        "    def forward(self, x):\n",
        "        x = x.view(-1, 28 * 28)\n",
        "        x = F.relu(self.fc1(x))\n",
        "        x = F.relu(self.fc2(x))\n",
        "        x = F.relu(self.fc3(x))\n",
        "        x = self.fc4(x)\n",
        "        return x\n",
        "\n",
        "class MLPModel_5(nn.Module):\n",
        "    def __init__(self):\n",
        "        super(MLPModel_5, self).__init__()\n",
        "        self.fc1 = nn.Linear(num_features, 512)\n",
        "        self.fc2 = nn.Linear(512, 256)\n",
        "        self.fc3 = nn.Linear(256, 128)\n",
        "        self.fc4 = nn.Linear(128, 64)\n",
        "        self.fc5 = nn.Linear(64, 32)\n",
        "        self.fc6 = nn.Linear(32, 10)\n",
        "\n",
        "    def forward(self, x):\n",
        "        x = x.view(-1, 28 * 28)\n",
        "        x = F.relu(self.fc1(x))\n",
        "        x = F.relu(self.fc2(x))\n",
        "        x = F.relu(self.fc3(x))\n",
        "        x = F.relu(self.fc4(x))\n",
        "        x = F.relu(self.fc5(x))\n",
        "        x = self.fc6(x)\n",
        "        return x\n",
        "\n",
        "# initialize the NN\n",
        "model_3 = MLPModel_3()\n",
        "model_5 = MLPModel_5()\n",
        "print(model_3)\n",
        "print(model_5)"
      ]
    },
    {
      "cell_type": "code",
      "execution_count": 18,
      "metadata": {
        "id": "O0_41SFFRVQ_"
      },
      "outputs": [],
      "source": [
        "def accuracy(model, data_loader):\n",
        "    correct = 0\n",
        "    total = 0\n",
        "    # since we're not training, we don't need to calculate the gradients for our outputs\n",
        "    with torch.no_grad():\n",
        "        for data in data_loader:\n",
        "            images, labels = data\n",
        "            # calculate outputs by running images through the network\n",
        "            outputs = model(images)\n",
        "            # the class with the highest energy is what we choose as prediction\n",
        "            _, predicted = torch.max(outputs.data, 1)\n",
        "            total += labels.size(0)\n",
        "            correct += (predicted == labels).sum().item()\n",
        "\n",
        "    return correct/total"
      ]
    },
    {
      "cell_type": "code",
      "execution_count": 19,
      "metadata": {
        "colab": {
          "base_uri": "https://localhost:8080/"
        },
        "id": "YaJdeqNORYv-",
        "outputId": "43f18cc4-4f1a-4b76-fed4-6b7d30714c04"
      },
      "outputs": [
        {
          "output_type": "stream",
          "name": "stdout",
          "text": [
            "\n",
            "============================================================\n",
            "Training MLPModel 3 layers | Learning Rate = 0.1\n",
            "============================================================\n",
            "Epoch [10/100], Loss: 0.0210\n",
            "Epoch [20/100], Loss: 0.0065\n",
            "Epoch [30/100], Loss: 0.0000\n",
            "Epoch [40/100], Loss: 0.0000\n",
            "Epoch [50/100], Loss: 0.0000\n",
            "Epoch [60/100], Loss: 0.0000\n",
            "Epoch [70/100], Loss: 0.0000\n",
            "Epoch [80/100], Loss: 0.0000\n",
            "Epoch [90/100], Loss: 0.0000\n",
            "Epoch [100/100], Loss: 0.0000\n",
            "\n",
            "Dev Accuracy: 0.9819\n",
            "\n",
            "============================================================\n",
            "Training MLPModel 3 layers | Learning Rate = 0.05\n",
            "============================================================\n",
            "Epoch [10/100], Loss: 0.0150\n",
            "Epoch [20/100], Loss: 0.0002\n",
            "Epoch [30/100], Loss: 0.0001\n",
            "Epoch [40/100], Loss: 0.0000\n",
            "Epoch [50/100], Loss: 0.0000\n",
            "Epoch [60/100], Loss: 0.0000\n",
            "Epoch [70/100], Loss: 0.0000\n",
            "Epoch [80/100], Loss: 0.0000\n",
            "Epoch [90/100], Loss: 0.0000\n",
            "Epoch [100/100], Loss: 0.0000\n",
            "\n",
            "Dev Accuracy: 0.9816\n",
            "\n",
            "============================================================\n",
            "Training MLPModel 3 layers | Learning Rate = 0.001\n",
            "============================================================\n",
            "Epoch [10/100], Loss: 0.3766\n",
            "Epoch [20/100], Loss: 0.2586\n",
            "Epoch [30/100], Loss: 0.1873\n",
            "Epoch [40/100], Loss: 0.1426\n",
            "Epoch [50/100], Loss: 0.1124\n",
            "Epoch [60/100], Loss: 0.0906\n",
            "Epoch [70/100], Loss: 0.0734\n",
            "Epoch [80/100], Loss: 0.0602\n",
            "Epoch [90/100], Loss: 0.0496\n",
            "Epoch [100/100], Loss: 0.0408\n",
            "\n",
            "Dev Accuracy: 0.9699\n",
            "\n",
            "============================================================\n",
            "TRAINING FINISHED\n",
            "============================================================\n",
            "Best Model: MLPModel 3 layers\n",
            "Learning Rate: 0.1\n",
            "Dev Accuracy: 0.9819\n",
            "Test Accuracy: 0.9852\n"
          ]
        }
      ],
      "source": [
        "import torch\n",
        "import torch.nn as nn\n",
        "import torch.optim as optim\n",
        "\n",
        "lrs = [0.1, 0.05, 0.001]\n",
        "epochs = 100\n",
        "best_acc = 0\n",
        "best_model = None\n",
        "best_model_config = {}\n",
        "\n",
        "for lr in lrs:\n",
        "    print(f\"\\n{'='*60}\")\n",
        "    print(f\"Training MLPModel 3 layers | Learning Rate = {lr}\")\n",
        "    print(f\"{'='*60}\")\n",
        "\n",
        "    model = MLPModel_3()\n",
        "    criterion = nn.CrossEntropyLoss()\n",
        "    optimizer = optim.SGD(model.parameters(), lr=lr)\n",
        "\n",
        "    for epoch in range(epochs):\n",
        "        model.train()\n",
        "\n",
        "        running_loss = 0.0\n",
        "        for inputs, labels in train_loader:\n",
        "            optimizer.zero_grad()\n",
        "            outputs = model(inputs)\n",
        "            loss = criterion(outputs, labels)\n",
        "            loss.backward()\n",
        "            optimizer.step()\n",
        "\n",
        "            running_loss += loss.item()\n",
        "\n",
        "        if (epoch + 1) % 10 == 0:\n",
        "            avg_loss = running_loss / len(train_loader)\n",
        "            print(f'Epoch [{epoch+1}/{epochs}], Loss: {avg_loss:.4f}')\n",
        "\n",
        "    dev_acc = accuracy(model, dev_loader)\n",
        "    print(f'\\nDev Accuracy: {dev_acc:.4f}')\n",
        "\n",
        "    if dev_acc > best_acc:\n",
        "        best_acc = dev_acc\n",
        "        best_model = model\n",
        "        best_model_config = {\n",
        "            \"name\": \"MLPModel 3 layers\",\n",
        "            \"learning_rate\": lr,\n",
        "            \"dev_accuracy\": dev_acc\n",
        "        }\n",
        "\n",
        "print(\"\\n\" + \"=\"*60)\n",
        "print(\"TRAINING FINISHED\")\n",
        "print(\"=\"*60)\n",
        "print(f\"Best Model: {best_model_config['name']}\")\n",
        "print(f\"Learning Rate: {best_model_config['learning_rate']}\")\n",
        "print(f\"Dev Accuracy: {best_model_config['dev_accuracy']:.4f}\")\n",
        "\n",
        "test_acc = accuracy(best_model, test_loader)\n",
        "print(f\"Test Accuracy: {test_acc:.4f}\")"
      ]
    },
    {
      "cell_type": "code",
      "execution_count": 20,
      "metadata": {
        "id": "0ZruEYmLRces",
        "colab": {
          "base_uri": "https://localhost:8080/"
        },
        "outputId": "d480e6f5-1671-48f1-f956-647d3aeeb502"
      },
      "outputs": [
        {
          "output_type": "stream",
          "name": "stdout",
          "text": [
            "\n",
            "============================================================\n",
            "Training MLPModel 5 layers | Learning Rate = 0.1\n",
            "============================================================\n",
            "Epoch [10/100], Loss: 0.0249\n",
            "Epoch [20/100], Loss: 0.0055\n",
            "Epoch [30/100], Loss: 0.0082\n",
            "Epoch [40/100], Loss: 0.0006\n",
            "Epoch [50/100], Loss: 0.0000\n",
            "Epoch [60/100], Loss: 0.0000\n",
            "Epoch [70/100], Loss: 0.0000\n",
            "Epoch [80/100], Loss: 0.0000\n",
            "Epoch [90/100], Loss: 0.0000\n",
            "Epoch [100/100], Loss: 0.0000\n",
            "\n",
            "Dev Accuracy: 0.9821\n",
            "\n",
            "============================================================\n",
            "Training MLPModel 5 layers | Learning Rate = 0.05\n",
            "============================================================\n",
            "Epoch [10/100], Loss: 0.0180\n",
            "Epoch [20/100], Loss: 0.0049\n",
            "Epoch [30/100], Loss: 0.0000\n",
            "Epoch [40/100], Loss: 0.0000\n",
            "Epoch [50/100], Loss: 0.0000\n",
            "Epoch [60/100], Loss: 0.0000\n",
            "Epoch [70/100], Loss: 0.0000\n",
            "Epoch [80/100], Loss: 0.0000\n",
            "Epoch [90/100], Loss: 0.0000\n",
            "Epoch [100/100], Loss: 0.0000\n",
            "\n",
            "Dev Accuracy: 0.9802\n",
            "\n",
            "============================================================\n",
            "Training MLPModel 5 layers | Learning Rate = 0.001\n",
            "============================================================\n",
            "Epoch [10/100], Loss: 1.7187\n",
            "Epoch [20/100], Loss: 0.3240\n",
            "Epoch [30/100], Loss: 0.1502\n",
            "Epoch [40/100], Loss: 0.0805\n",
            "Epoch [50/100], Loss: 0.0421\n",
            "Epoch [60/100], Loss: 0.0200\n",
            "Epoch [70/100], Loss: 0.0091\n",
            "Epoch [80/100], Loss: 0.0045\n",
            "Epoch [90/100], Loss: 0.0027\n",
            "Epoch [100/100], Loss: 0.0018\n",
            "\n",
            "Dev Accuracy: 0.9657\n",
            "\n",
            "============================================================\n",
            "TRAINING FINISHED\n",
            "============================================================\n",
            "Best Model: MLPModel 5 layers\n",
            "Learning Rate: 0.1\n",
            "Dev Accuracy: 0.9821\n",
            "Test Accuracy: 0.9832\n"
          ]
        }
      ],
      "source": [
        "lrs = [0.1, 0.05, 0.001]\n",
        "epochs = 100\n",
        "best_acc = 0\n",
        "best_model = None\n",
        "best_model_config = {}\n",
        "\n",
        "for lr in lrs:\n",
        "    print(f\"\\n{'='*60}\")\n",
        "    print(f\"Training MLPModel 5 layers | Learning Rate = {lr}\")\n",
        "    print(f\"{'='*60}\")\n",
        "\n",
        "    model = MLPModel_5()\n",
        "    criterion = nn.CrossEntropyLoss()\n",
        "    optimizer = optim.SGD(model.parameters(), lr=lr)\n",
        "\n",
        "    for epoch in range(epochs):\n",
        "        model.train()\n",
        "\n",
        "        running_loss = 0.0\n",
        "        for inputs, labels in train_loader:\n",
        "            optimizer.zero_grad()\n",
        "            outputs = model(inputs)\n",
        "            loss = criterion(outputs, labels)\n",
        "            loss.backward()\n",
        "            optimizer.step()\n",
        "\n",
        "            running_loss += loss.item()\n",
        "\n",
        "        if (epoch + 1) % 10 == 0:\n",
        "            avg_loss = running_loss / len(train_loader)\n",
        "            print(f'Epoch [{epoch+1}/{epochs}], Loss: {avg_loss:.4f}')\n",
        "\n",
        "    dev_acc = accuracy(model, dev_loader)\n",
        "    print(f'\\nDev Accuracy: {dev_acc:.4f}')\n",
        "\n",
        "    if dev_acc > best_acc:\n",
        "        best_acc = dev_acc\n",
        "        best_model = model\n",
        "        best_model_config = {\n",
        "            \"name\": \"MLPModel 5 layers\",\n",
        "            \"learning_rate\": lr,\n",
        "            \"dev_accuracy\": dev_acc\n",
        "        }\n",
        "\n",
        "print(\"\\n\" + \"=\"*60)\n",
        "print(\"TRAINING FINISHED\")\n",
        "print(\"=\"*60)\n",
        "print(f\"Best Model: {best_model_config['name']}\")\n",
        "print(f\"Learning Rate: {best_model_config['learning_rate']}\")\n",
        "print(f\"Dev Accuracy: {best_model_config['dev_accuracy']:.4f}\")\n",
        "\n",
        "test_acc = accuracy(best_model, test_loader)\n",
        "print(f\"Test Accuracy: {test_acc:.4f}\")"
      ]
    }
  ],
  "metadata": {
    "colab": {
      "provenance": []
    },
    "kernelspec": {
      "display_name": "Python [conda env:root] *",
      "language": "python",
      "name": "conda-root-py"
    },
    "language_info": {
      "codemirror_mode": {
        "name": "ipython",
        "version": 3
      },
      "file_extension": ".py",
      "mimetype": "text/x-python",
      "name": "python",
      "nbconvert_exporter": "python",
      "pygments_lexer": "ipython3",
      "version": "3.7.10"
    }
  },
  "nbformat": 4,
  "nbformat_minor": 0
}
{
  "nbformat": 4,
  "nbformat_minor": 0,
  "metadata": {
    "colab": {
      "provenance": []
    },
    "kernelspec": {
      "name": "python3",
      "display_name": "Python 3"
    },
    "language_info": {
      "name": "python"
    }
  },
  "cells": [
    {
      "cell_type": "markdown",
      "metadata": {
        "id": "kwbMJkYivjJM"
      },
      "source": [
        "# Lab 01\n",
        "\n",
        "> In this lab, you're going to:\n",
        "\n",
        "1.   Implement your your first reinforcement learning agent\n",
        "2.   Study about the reinforcement learning dilemma of exploration and exploitation\n",
        "3.   Create simple plot to visualize your agent's efficiencies\n",
        "\n",
        "\n",
        "\n",
        "\n"
      ]
    },
    {
      "cell_type": "markdown",
      "metadata": {
        "id": "5tQ6ZCHqz0oB"
      },
      "source": [
        "**In this lab, and the next one, we're going to use a game simulator of GridWorld**\n",
        "\n",
        "What is GridWorld\n",
        "\n",
        "GridWorld game is basically a **grid map** of size (m x m)\n",
        "in which there're grid boxes you are rewarded with  \n",
        "\n",
        "*   ***positive*** value when you step in\n",
        "*   ***negative*** value when you step in\n",
        "\n",
        "The purpose of this game is to find a policy that guides your agent to avoid **negative** boxes and find **positive** ones.\n",
        "\n",
        "![gridworld.png](data:image/png;base64,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)"
      ]
    },
    {
      "cell_type": "markdown",
      "metadata": {
        "id": "ae9JVEJ93rYu"
      },
      "source": [
        "## Gridworld Simulator\n",
        "\n",
        "This part, we're going to build the simulator, if you wish to understand what the environment you're dealing with does, you might want to take a look.\n",
        "\n",
        "If you're not very interested, you can pass this section and move on. But **make sure you run all the blocks in this section at least once to activate the source code of the game**"
      ]
    },
    {
      "cell_type": "code",
      "metadata": {
        "id": "45U9YAM33qm3"
      },
      "source": [
        "# In this simulator, all is done with a simple module: numpy\n",
        "import numpy as np"
      ],
      "execution_count": 1,
      "outputs": []
    },
    {
      "cell_type": "code",
      "metadata": {
        "id": "q0k8JHy6rBJf"
      },
      "source": [
        "class environment:\n",
        "  def __init__(self, grid_height, grid_width):\n",
        "    \"\"\"\n",
        "    The map is initialized with height and width are varible of your choice\n",
        "    start: List of location where you step in, you get to the corresponding location in list 'end'\n",
        "           For example:\n",
        "              if you step in location start[3] then you get to new location end[3] then obtain the reward value of reward[3]\n",
        "    reward: List of reward value where you move from a location in 'start' list to the corresponding location in 'end' list\n",
        "    \"\"\"\n",
        "    self.height = grid_height\n",
        "    self.width = grid_width\n",
        "    self.start = []\n",
        "    self.end = []\n",
        "    self.reward = []\n",
        "    self.map = np.array([i for i in range(grid_height * grid_width)])\n",
        "    self.action_space = [0,1,2,3]\n",
        "\n",
        "  def get_Map(self):\n",
        "    print(self.map.reshape([self.width, self.height]))\n",
        "\n",
        "  def get_NumState(self):\n",
        "    return self.height * self.width\n",
        "\n",
        "  def map_Designate(self, start_cell, end_cell, reward):\n",
        "    self.start.append(start_cell)\n",
        "    self.end.append(end_cell)\n",
        "    self.reward.append(reward)\n",
        "\n",
        "  def get_Observation(self, location, action):\n",
        "    # If the agent observe the environment the first time\n",
        "    if location in self.start:\n",
        "      idx = self.start.index(location)\n",
        "      new_location = self.end[idx]\n",
        "      reward = self.reward[idx]\n",
        "      return new_location, self.action_space, reward\\\n",
        "\n",
        "    # If the agent at special locations, all action lead to a single location, gain reward\n",
        "    if location in self.start:\n",
        "      idx = self.start.index(location)\n",
        "      new_location = self.end[idx]\n",
        "      reward = self.reward[idx]\n",
        "      return new_location, self.action_space, reward\n",
        "\n",
        "    # If the agent not at special locations, reward = 0\n",
        "    reward = 0\n",
        "    # Action: UP: 0, DOWN: 1, LEFT: 2, RIGHT: 3\n",
        "    # Actions that get the agent out of the map, result in no change at all\n",
        "    if action == 0: #UP\n",
        "      if location - self.width < 0:\n",
        "        new_location = location\n",
        "      else:\n",
        "        new_location = location - self.width\n",
        "\n",
        "    elif action == 1: #DOWN\n",
        "      if location + self.width > self.height * self.width - 1:\n",
        "        new_location = location\n",
        "      else:\n",
        "        new_location = location + self.width\n",
        "\n",
        "    elif action == 2: #LEFT\n",
        "      if location % self.width == 0:\n",
        "        new_location = location\n",
        "      else:\n",
        "        new_location = location - 1\n",
        "\n",
        "    elif action == 3: #RIGHT\n",
        "      if (location + 1) % self.width == 0:\n",
        "        new_location = location\n",
        "      else:\n",
        "        new_location = location + 1\n",
        "\n",
        "    return new_location, self.action_space, reward"
      ],
      "execution_count": 2,
      "outputs": []
    },
    {
      "cell_type": "markdown",
      "metadata": {
        "id": "kTfX6Gs16f2J"
      },
      "source": [
        "> **Building a map**\n",
        "\n",
        "Use our coded map if you want, or feel free to make changes"
      ]
    },
    {
      "cell_type": "code",
      "metadata": {
        "colab": {
          "base_uri": "https://localhost:8080/"
        },
        "id": "wRuYBoU46crJ",
        "outputId": "6b681b7c-26e4-4d47-9d5e-6fe0d7f04645"
      },
      "source": [
        "#Environment setup\n",
        "Envir = environment(8,8)\n",
        "Envir.get_Map()\n",
        "Envir.map_Designate(17,56,-15)\n",
        "Envir.map_Designate(18,56,-15)\n",
        "Envir.map_Designate(19,56,-15)\n",
        "Envir.map_Designate(21,56,-15)\n",
        "Envir.map_Designate(25,56,-15)\n",
        "Envir.map_Designate(33,56,-15)\n",
        "Envir.map_Designate(41,56,-15)\n",
        "Envir.map_Designate(42,56,-15)\n",
        "Envir.map_Designate(43,56,-15)\n",
        "Envir.map_Designate(46,56,-15)\n",
        "Envir.map_Designate(47,56,-15)\n",
        "Envir.map_Designate(47,56,-15)\n",
        "Envir.map_Designate(15,56,+15)\n",
        "Envir.map_Designate(1,10,+5)\n",
        "Envir.map_Designate(26,56,+20)\n",
        "\n",
        "# Check for the start, end, reward lists\n",
        "for i in range(len(Envir.start)):\n",
        "  print('i = '+ str(i) + '|Start at ' + str(Envir.start[i]) + ' results at ' + str(Envir.end[i]) + ' get Reward: ' + str(Envir.reward[i]))"
      ],
      "execution_count": 3,
      "outputs": [
        {
          "output_type": "stream",
          "name": "stdout",
          "text": [
            "[[ 0  1  2  3  4  5  6  7]\n",
            " [ 8  9 10 11 12 13 14 15]\n",
            " [16 17 18 19 20 21 22 23]\n",
            " [24 25 26 27 28 29 30 31]\n",
            " [32 33 34 35 36 37 38 39]\n",
            " [40 41 42 43 44 45 46 47]\n",
            " [48 49 50 51 52 53 54 55]\n",
            " [56 57 58 59 60 61 62 63]]\n",
            "i = 0|Start at 17 results at 56 get Reward: -15\n",
            "i = 1|Start at 18 results at 56 get Reward: -15\n",
            "i = 2|Start at 19 results at 56 get Reward: -15\n",
            "i = 3|Start at 21 results at 56 get Reward: -15\n",
            "i = 4|Start at 25 results at 56 get Reward: -15\n",
            "i = 5|Start at 33 results at 56 get Reward: -15\n",
            "i = 6|Start at 41 results at 56 get Reward: -15\n",
            "i = 7|Start at 42 results at 56 get Reward: -15\n",
            "i = 8|Start at 43 results at 56 get Reward: -15\n",
            "i = 9|Start at 46 results at 56 get Reward: -15\n",
            "i = 10|Start at 47 results at 56 get Reward: -15\n",
            "i = 11|Start at 47 results at 56 get Reward: -15\n",
            "i = 12|Start at 15 results at 56 get Reward: 15\n",
            "i = 13|Start at 1 results at 10 get Reward: 5\n",
            "i = 14|Start at 26 results at 56 get Reward: 20\n"
          ]
        }
      ]
    },
    {
      "cell_type": "markdown",
      "metadata": {
        "id": "_ACrN8-b9_Ls"
      },
      "source": [
        "## Agent designation\n",
        "\n",
        "\n",
        "In this section, you're building your first reinforcement learning agent. The basic function that all agent is required to have is **getAction** (or **takeAction** if you want some intensities in your work :v)\n",
        "\n",
        "\n",
        "---\n",
        "\n",
        "\n",
        "Such function has one input: **observation** (or **the current state**), in this particular situation of interest, we have another information: **reward** (of the previous taken action).\n",
        "\n",
        "So observation is a tupple (current state, previous reward) which you can extract simply by:\n",
        "\n",
        "```\n",
        "location_now, _, pre_reward = observation\n",
        "```\n",
        "\n",
        "This function returns th action you wish to execute, in this particular environment, the action space is **{0, 1, 2, 3}** which are UP, DOWN, LEFT and RIGHT respectively\n",
        "\n",
        "![action_space.png](data:image/png;base64,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)\n",
        "\n",
        "```\n",
        "def getAction(self, observation):\n",
        "  location_now, action_space, pre_reward = observation\n",
        "  # your code\n",
        "  action = ...\n",
        "\n",
        "  # make sure your action is valid\n",
        "  assert action in action_space, \"INVALID action taken\"\n",
        "  return action\n",
        "```\n",
        "\n",
        "\n",
        "\n",
        "> **In real-world problems, the reward is deduced from the current state and not pre-defined by the environment, which helps our agent to maximize whatever we want. Great isn't it ?**\n",
        "\n",
        "\n"
      ]
    },
    {
      "cell_type": "markdown",
      "metadata": {
        "id": "JyPF70vv_tl3"
      },
      "source": [
        "**NOTICE**: If you're not familiar with \"MAB agent\" then please come back when you are because we're not going to revise fundamentals in labs"
      ]
    },
    {
      "cell_type": "code",
      "metadata": {
        "id": "y7iuloxl-Btv"
      },
      "source": [
        "class MAB_agent:\n",
        "  def __init__(self, envir, init_location):\n",
        "    # Trace the reward\n",
        "    self.reward_trace = []\n",
        "    # initialize the first location\n",
        "    self.location_now = init_location\n",
        "    # TODO: implement other features to the agent so it can perform MAB algorithm\n",
        "    self.lastAction = None\n",
        "    self.lastState = None\n",
        "    self.value_table = {}    # format: {state : {action : [value, count]}}\n",
        "\n",
        "  def get_TotalReward(self):\n",
        "    return np.sum(self.reward_trace)\n",
        "\n",
        "  # Running in Simulator\n",
        "  def getAction(self, observation):\n",
        "    location_now, action_space, pre_reward = observation\n",
        "    # NOTICE: the first observation is (None, [0,1,2,3], None)\n",
        "    # You should process the 'None' value\n",
        "    if self.location_now not in self.value_table.keys():\n",
        "      # if the state has not been observed before, add to the table with [value, count] = [0, 1]\n",
        "      self.value_table[self.location_now] = {i: [0, 1] for i in action_space}\n",
        "\n",
        "    if pre_reward is None:\n",
        "      action = np.random.choice(action_space, p=[1/(len(action_space)) for action in action_space])\n",
        "    else:\n",
        "      self.reward_trace.append(pre_reward)\n",
        "      # Updating with incremental average over reward samples\n",
        "      value = self.value_table[self.lastState][self.lastAction][0]\n",
        "      count = self.value_table[self.lastState][self.lastAction][1]\n",
        "\n",
        "      count += 1\n",
        "      value += (1/count) * (pre_reward - value)\n",
        "\n",
        "      self.value_table[self.lastState][self.lastAction][0] = value\n",
        "      self.value_table[self.lastState][self.lastAction][1] = count\n",
        "\n",
        "      # get action\n",
        "      state_dict = self.value_table[self.lastState].values()\n",
        "      state_dict_array = np.array(list(state_dict))\n",
        "      value_column = state_dict_array[:,0]\n",
        "      action = np.argmax(value_column)\n",
        "\n",
        "    self.lastState = self.location_now\n",
        "    self.lastAction = action\n",
        "    # Assert valid action\n",
        "    assert action in action_space, \"INVALID action taken\"\n",
        "    return action"
      ],
      "execution_count": 11,
      "outputs": []
    },
    {
      "cell_type": "code",
      "metadata": {
        "id": "zNzFQVXYFX_4",
        "colab": {
          "base_uri": "https://localhost:8080/"
        },
        "outputId": "02976b9c-958f-42f2-9e8b-7751864af51f"
      },
      "source": [
        "# create your agent, with environment is the pre-declared Envir and init_location set to 0\n",
        "init_location = 0\n",
        "dummyAgent = MAB_agent(envir=Envir, init_location=init_location)\n",
        "\n",
        "num_iter = 100\n",
        "\n",
        "log_freq = 10\n",
        "Data_plot1 = []\n",
        "\n",
        "for i in range(num_iter):\n",
        "  env_observation = (init_location, Envir.action_space, None)\n",
        "  if i > 0:\n",
        "    env_observation = Envir.get_Observation(location=dummyAgent.location_now, action=chosen_action)\n",
        "\n",
        "  chosen_action = dummyAgent.getAction(observation=env_observation)\n",
        "  if (i + 1) % log_freq == 0:\n",
        "    aver = np.mean(dummyAgent.reward_trace)\n",
        "    Data_plot1.append(aver)\n",
        "    print('iter: ' + str(i + 1) + '\\t Total reward: ' + str(dummyAgent.get_TotalReward()) + '\\t Average: ' + str(aver))"
      ],
      "execution_count": 12,
      "outputs": [
        {
          "output_type": "stream",
          "name": "stdout",
          "text": [
            "iter: 10\t Total reward: 0\t Average: 0.0\n",
            "iter: 20\t Total reward: 0\t Average: 0.0\n",
            "iter: 30\t Total reward: 0\t Average: 0.0\n",
            "iter: 40\t Total reward: 0\t Average: 0.0\n",
            "iter: 50\t Total reward: 0\t Average: 0.0\n",
            "iter: 60\t Total reward: 0\t Average: 0.0\n",
            "iter: 70\t Total reward: 0\t Average: 0.0\n",
            "iter: 80\t Total reward: 0\t Average: 0.0\n",
            "iter: 90\t Total reward: 0\t Average: 0.0\n",
            "iter: 100\t Total reward: 0\t Average: 0.0\n"
          ]
        }
      ]
    },
    {
      "cell_type": "markdown",
      "metadata": {
        "id": "ITG_EG4KmcmI"
      },
      "source": [
        "##  Exploration and Exploitation: Reinforcement Learning Dilemma\n",
        "\n",
        "In this section, you'll study how exploration can effectively improve the overall reward of your agent. Also, learn the trade-off between explore and exploit.\n",
        "\n",
        "First, take a look at the most basic form of exploration:\n",
        "$\\epsilon$-greedy\n",
        "\n",
        "> The idea is simple, for each timestep where we consider which action to take, there is a probability of $\\epsilon$ that you take a random action, and $1-\\epsilon$ that you take the highest-rewarded action\n"
      ]
    },
    {
      "cell_type": "markdown",
      "metadata": {
        "id": "ZwQjhOHap9wb"
      },
      "source": [
        "How we implement this idea, as black and white as the idea!\n",
        "\n",
        "\n",
        "\n",
        "```\n",
        "rand_num = np.random.randn()\n",
        "if rand_num <= epsilon:\n",
        "  action = # random action\n",
        "else:\n",
        "  action = # action with highest reward\n",
        "```\n",
        "\n"
      ]
    },
    {
      "cell_type": "code",
      "metadata": {
        "id": "5ZkGtBaIq0j0"
      },
      "source": [
        "class MABe_agent(MAB_agent):\n",
        "  def __init__(self, envir, init_location, epsilon):\n",
        "    super(MABe_agent, self).__init__(envir, init_location)\n",
        "    self.epsilon = epsilon\n",
        "\n",
        "  # Override\n",
        "  def getAction(self, observation):\n",
        "    location_now, action_space, pre_reward = observation\n",
        "    # NOTICE: the first observation is (NONE, [0,1,2,3], None)\n",
        "    # You should process the 'None' value\n",
        "    if self.location_now not in self.value_table.keys():\n",
        "      # if the state has not been observed before, add to the table with [value, count] = [0, 1]\n",
        "      self.value_table[self.location_now] = {i: [0, 1] for i in action_space}\n",
        "\n",
        "    toss = np.random.rand()\n",
        "\n",
        "    if pre_reward is None or toss < self.epsilon:\n",
        "      action = np.random.choice(action_space, p=[1/(len(action_space)) for action in action_space])\n",
        "    else:\n",
        "      self.reward_trace.append(pre_reward)\n",
        "      # Updating with incremental average over reward samples\n",
        "      value = self.value_table[self.lastState][self.lastAction][0]\n",
        "      count = self.value_table[self.lastState][self.lastAction][1]\n",
        "\n",
        "      count += 1\n",
        "      value += (1/count) * (pre_reward - value)\n",
        "\n",
        "      self.value_table[self.lastState][self.lastAction][0] = value\n",
        "      self.value_table[self.lastState][self.lastAction][1] = count\n",
        "\n",
        "      # get action\n",
        "      state_dict = self.value_table[self.lastState].values()\n",
        "      state_dict_array = np.array(list(state_dict))\n",
        "      value_column = state_dict_array[:,0]\n",
        "      action = np.argmax(value_column)\n",
        "\n",
        "    self.lastState = self.location_now\n",
        "    self.lastAction = action\n",
        "    # Assert valid action\n",
        "    assert action in action_space, \"INVALID action taken\"\n",
        "    return action\n"
      ],
      "execution_count": 13,
      "outputs": []
    },
    {
      "cell_type": "code",
      "metadata": {
        "id": "f9I39rTysE7k",
        "colab": {
          "base_uri": "https://localhost:8080/"
        },
        "outputId": "b07aec0b-5368-4830-fa45-aee309fa32de"
      },
      "source": [
        "# Run your MABe agent\n",
        "# create your agent, with environment is the pre-declared Envir and init_location set to 0\n",
        "init_location = 0\n",
        "epsilon=0.5\n",
        "dummyAgent = MABe_agent(envir=Envir, init_location=init_location, epsilon=epsilon)\n",
        "\n",
        "num_iter = 1000\n",
        "log_freq = 100\n",
        "Data_plot2 = []\n",
        "Action_record = []\n",
        "Location_record = []\n",
        "\n",
        "for i in range(num_iter):\n",
        "  env_observation = (init_location, Envir.action_space, None)\n",
        "  if i > 0:\n",
        "    env_observation = Envir.get_Observation(location=dummyAgent.location_now, action=chosen_action)\n",
        "\n",
        "  chosen_action = dummyAgent.getAction(observation=env_observation)\n",
        "  Location_record.append(env_observation[0])\n",
        "  Action_record.append(chosen_action)\n",
        "\n",
        "  if (i + 1) % log_freq == 0:\n",
        "    aver = np.mean(dummyAgent.reward_trace)\n",
        "    Data_plot2.append(aver)\n",
        "    print('iter: ' + str(i + 1) + '\\t Total reward: ' + str(dummyAgent.get_TotalReward()) + '\\t Average: ' + str(aver))"
      ],
      "execution_count": 15,
      "outputs": [
        {
          "output_type": "stream",
          "name": "stdout",
          "text": [
            "iter: 100\t Total reward: 0\t Average: 0.0\n",
            "iter: 200\t Total reward: 0\t Average: 0.0\n",
            "iter: 300\t Total reward: 0\t Average: 0.0\n",
            "iter: 400\t Total reward: 0\t Average: 0.0\n",
            "iter: 500\t Total reward: 0\t Average: 0.0\n",
            "iter: 600\t Total reward: 0\t Average: 0.0\n",
            "iter: 700\t Total reward: 0\t Average: 0.0\n",
            "iter: 800\t Total reward: 0\t Average: 0.0\n",
            "iter: 900\t Total reward: 0\t Average: 0.0\n",
            "iter: 1000\t Total reward: 0\t Average: 0.0\n"
          ]
        }
      ]
    },
    {
      "cell_type": "markdown",
      "metadata": {
        "id": "CapDnyQBD_IM"
      },
      "source": [
        "## Simulation\n",
        "\n",
        "After defined environment and agent class, we need to combine these elements to perform simulation"
      ]
    },
    {
      "cell_type": "markdown",
      "metadata": {
        "id": "nvY5v39_MmuL"
      },
      "source": [
        "## Simple plot with matplotlib\n",
        "\n",
        "\n",
        "\n",
        "> Visualization is the best way for data analysis\n",
        "\n",
        "In this section, we're going to plot your data\n",
        "\n"
      ]
    },
    {
      "cell_type": "code",
      "metadata": {
        "id": "r8tjXTM5MEJ9"
      },
      "source": [
        "import matplotlib.pyplot as plt"
      ],
      "execution_count": 16,
      "outputs": []
    },
    {
      "cell_type": "code",
      "metadata": {
        "id": "z0zyVekvNGKL",
        "colab": {
          "base_uri": "https://localhost:8080/",
          "height": 427
        },
        "outputId": "ea3f0d1d-bb12-4ace-9d13-db1e9d70f9e8"
      },
      "source": [
        "fig = plt.figure()\n",
        "plt.plot(Data_plot1, label=\"No exploration\")\n",
        "plt.plot(Data_plot2, label=\"e-greedy\")\n",
        "plt.legend()\n",
        "plt.show()"
      ],
      "execution_count": 17,
      "outputs": [
        {
          "output_type": "display_data",
          "data": {
            "text/plain": [
              "<Figure size 640x480 with 1 Axes>"
            ],
            "image/png": "[encoded data removed]"
          },
          "metadata": {}
        }
      ]
    },
    {
      "cell_type": "code",
      "metadata": {
        "id": "aZ0-D5JHNbSX"
      },
      "source": [],
      "execution_count": null,
      "outputs": []
    }
  ]
}
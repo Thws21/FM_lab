{
  "nbformat": 4,
  "nbformat_minor": 0,
  "metadata": {
    "accelerator": "GPU",
    "colab": {
      "provenance": []
    },
    "kernelspec": {
      "display_name": "Python 3",
      "language": "python",
      "name": "python3"
    },
    "language_info": {
      "codemirror_mode": {
        "name": "ipython",
        "version": 3
      },
      "file_extension": ".py",
      "mimetype": "text/x-python",
      "name": "python",
      "nbconvert_exporter": "python",
      "pygments_lexer": "ipython3",
      "version": "3.7.10"
    }
  },
  "cells": [
    {
      "cell_type": "code",
      "metadata": {
        "execution": {
          "iopub.execute_input": "2021-05-19T11:30:36.673334Z",
          "iopub.status.busy": "2021-05-19T11:30:36.672690Z",
          "iopub.status.idle": "2021-05-19T11:30:43.495621Z",
          "shell.execute_reply": "2021-05-19T11:30:43.494984Z"
        },
        "id": "0trJmd6DjqBZ"
      },
      "source": [
        "import torch\n",
        "import torchvision\n",
        "import torchvision.transforms as transforms\n",
        "import torch.nn as nn\n",
        "import torch.nn.functional as F\n",
        "import torch.optim as optim\n",
        "import numpy as np"
      ],
      "execution_count": 4,
      "outputs": []
    },
    {
      "cell_type": "markdown",
      "metadata": {
        "id": "7NAbSZiaoJ4z"
      },
      "source": [
        "Download dữ liệu chữ số viết tay MNIST"
      ]
    },
    {
      "cell_type": "code",
      "metadata": {
        "execution": {
          "iopub.execute_input": "2021-05-19T11:30:43.501155Z",
          "iopub.status.busy": "2021-05-19T11:30:43.500509Z",
          "iopub.status.idle": "2021-05-19T11:30:44.026366Z",
          "shell.execute_reply": "2021-05-19T11:30:44.026834Z"
        },
        "id": "JqFRS6K07jJs"
      },
      "source": [
        "# Chuẩn bị dữ liệu\n",
        "from tensorflow.keras.datasets import mnist\n",
        "(x_train, y_train), (x_test, y_test) = mnist.load_data()\n",
        "# Chuyển đổi sang định dạng float32.\n",
        "x_train, x_test = np.array(x_train, np.float32), np.array(x_test, np.float32)\n",
        "# Chuẩn hóa ảnh từ from [0, 255] to [0, 1].\n",
        "x_train, x_test = x_train / 255., x_test / 255.\n",
        "x_train, x_test, y_train, y_test = torch.from_numpy(x_train), torch.from_numpy(x_test), torch.from_numpy(y_train).type(torch.LongTensor), torch.from_numpy(y_test).type(torch.LongTensor)"
      ],
      "execution_count": 5,
      "outputs": []
    },
    {
      "cell_type": "code",
      "metadata": {
        "id": "jS1f1TsVxoj6"
      },
      "source": [
        "batch_size = 16\n",
        "trainloader = []\n",
        "for (i,j) in zip(x_train, y_train):\n",
        "    trainloader.append([i,j])\n",
        "trainloader = torch.utils.data.DataLoader(trainloader, shuffle=True, batch_size=batch_size)\n",
        "\n",
        "testloader = []\n",
        "for (i,j) in zip(x_test, y_test):\n",
        "    testloader.append([i,j])\n",
        "testloader = torch.utils.data.DataLoader(testloader, shuffle=True, batch_size=batch_size)"
      ],
      "execution_count": 6,
      "outputs": []
    },
    {
      "cell_type": "code",
      "metadata": {
        "id": "Ps36LD2btm0W"
      },
      "source": [
        "num_features = 784\n",
        "n_hidden_1 = 512\n",
        "n_hidden_2 = 128\n",
        "n_hidden_3 = 32\n",
        "num_classes = 10"
      ],
      "execution_count": 7,
      "outputs": []
    },
    {
      "cell_type": "markdown",
      "metadata": {
        "id": "Ar0KFOo-mjsn"
      },
      "source": [
        "Sử dụng các tham số ở trên để xây dựng mô hình"
      ]
    },
    {
      "cell_type": "code",
      "metadata": {
        "execution": {
          "iopub.execute_input": "2021-05-19T11:30:44.902515Z",
          "iopub.status.busy": "2021-05-19T11:30:44.901796Z",
          "iopub.status.idle": "2021-05-19T11:30:45.195908Z",
          "shell.execute_reply": "2021-05-19T11:30:45.195388Z"
        },
        "id": "h3IKyzTCDNGo"
      },
      "source": [
        "import torch.nn as nn\n",
        "import torch.nn.functional as F\n",
        "\n",
        "class Net(nn.Module):\n",
        "    def __init__(self):\n",
        "        super().__init__()\n",
        "        self.fc1 = nn.Linear(num_features, n_hidden_1)\n",
        "        self.fc2 = nn.Linear(n_hidden_1, n_hidden_2)\n",
        "        self.fc3 = nn.Linear(n_hidden_2, n_hidden_3)\n",
        "        self.fc4 = nn.Linear(n_hidden_3, num_classes)\n",
        "\n",
        "    def forward(self, x):\n",
        "        x = x.view(-1, num_features)\n",
        "        x = F.relu(self.fc1(x))\n",
        "        x = F.relu(self.fc2(x))\n",
        "        x = F.relu(self.fc3(x))\n",
        "        x = self.fc4(x)\n",
        "        return x\n",
        "\n",
        "net = Net()"
      ],
      "execution_count": 8,
      "outputs": []
    },
    {
      "cell_type": "code",
      "metadata": {
        "id": "t9ns5fidtz-t"
      },
      "source": [
        "import torch.optim as optim\n",
        "\n",
        "criterion = nn.CrossEntropyLoss()\n",
        "optimizer = optim.SGD(net.parameters(), lr=0.001, momentum=0.9)"
      ],
      "execution_count": 9,
      "outputs": []
    },
    {
      "cell_type": "code",
      "metadata": {
        "execution": {
          "iopub.execute_input": "2021-05-19T11:30:45.235727Z",
          "iopub.status.busy": "2021-05-19T11:30:45.235098Z",
          "iopub.status.idle": "2021-05-19T11:31:05.875247Z",
          "shell.execute_reply": "2021-05-19T11:31:05.875663Z"
        },
        "id": "i-2pkctU_Ci7",
        "colab": {
          "base_uri": "https://localhost:8080/"
        },
        "outputId": "10665d7f-ed9e-4e17-bd06-56690c359dec"
      },
      "source": [
        "for epoch in range(1):\n",
        "\n",
        "    running_loss = 0.0\n",
        "    for i, data in enumerate(trainloader, 0):\n",
        "        # load input và labels\n",
        "        inputs, labels = data\n",
        "\n",
        "        # zero the parameter gradients\n",
        "        optimizer.zero_grad()\n",
        "\n",
        "        # forward + backward + optimize\n",
        "        outputs = net(inputs)\n",
        "        # print(labels.shape)\n",
        "        # print(outputs.shape)\n",
        "        loss = criterion(outputs, labels)\n",
        "        loss.backward()\n",
        "        optimizer.step()\n",
        "\n",
        "        # print statistics\n",
        "        running_loss += loss.item()\n",
        "        if i % 2000 == 1999:    # print every 2000 mini-batches\n",
        "            print('[%d, %5d] loss: %.3f' %\n",
        "                  (epoch + 1, i + 1, running_loss / 2000))\n",
        "            running_loss = 0.0\n",
        "\n",
        "print('Finished Training')"
      ],
      "execution_count": 10,
      "outputs": [
        {
          "output_type": "stream",
          "name": "stdout",
          "text": [
            "[1,  2000] loss: 1.569\n",
            "Finished Training\n"
          ]
        }
      ]
    },
    {
      "cell_type": "code",
      "metadata": {
        "id": "qTG2aSROu4kK",
        "colab": {
          "base_uri": "https://localhost:8080/"
        },
        "outputId": "67e62197-e0e9-4bab-a889-dd52cc9f3819"
      },
      "source": [
        "correct = 0\n",
        "total = 0\n",
        "# do đang thực hiện việc dự đoán nên ko cần tính đạo hàm\n",
        "with torch.no_grad():\n",
        "    for data in testloader:\n",
        "        inputs, labels = data\n",
        "        # chạy hàm dự đoán\n",
        "        outputs = net(inputs)\n",
        "        # the class với giá trị xác suất cao nhất là đâu ra dự đoán\n",
        "        _, predicted = torch.max(outputs.data, 1)\n",
        "        total += labels.size(0)\n",
        "        correct += (predicted == labels).sum().item()\n",
        "\n",
        "print('Accuracy of the network on the 10000 test images: %d %%' % (\n",
        "    100 * correct / total))"
      ],
      "execution_count": 11,
      "outputs": [
        {
          "output_type": "stream",
          "name": "stdout",
          "text": [
            "Accuracy of the network on the 10000 test images: 88 %\n"
          ]
        }
      ]
    },
    {
      "cell_type": "markdown",
      "metadata": {
        "id": "rHXvZHDXOhMW"
      },
      "source": [
        "## Save and load model<br>\n",
        "Trình bày 1 trong các các lưu model và load model trong PyTorch\n",
        "\n",
        "1.   Lưu model<br>\n",
        "```\n",
        "torch.save(model.state_dict(), PATH)\n",
        "```\n",
        "trong đó PATH là đường dẫn tự định nghĩa\n",
        "2.   Load model <br>\n",
        "\n",
        "*   Trước tiên phải định nghĩa model trước. Model được định nghĩa phải giống hệt với model đã được lưu lại. Như ví dụ trong bài này, thì sẽ thực hiện như sau:\n",
        "```\n",
        "model = Net()\n",
        "```\n",
        "*   Load trọng số đã được học vào mô hình<br>\n",
        "```\n",
        "model.load_state_dict(torch.load(PATH))\n",
        "# vô hiệu hóa các layer như Dropout hay BatchNorm\n",
        "model.eval()\n",
        "```\n",
        "3. Có thể tham khảo thêm các phương pháp lưu và load model tại: https://pytorch.org/tutorials/beginner/basics/saveloadrun_tutorial.html\n",
        "\n",
        "\n",
        "\n",
        "\n",
        "\n",
        "\n"
      ]
    },
    {
      "cell_type": "code",
      "source": [
        "torch.save(net.state_dict(), 'saved_model.pth')"
      ],
      "metadata": {
        "id": "TD2TDAMWcoa5"
      },
      "execution_count": 12,
      "outputs": []
    },
    {
      "cell_type": "code",
      "metadata": {
        "id": "lhSsevChOxXE",
        "colab": {
          "base_uri": "https://localhost:8080/"
        },
        "outputId": "e47ae4e8-ce07-41c5-a099-77541d5293e3"
      },
      "source": [
        "saved_model = Net()\n",
        "saved_model.load_state_dict(torch.load('saved_model.pth'))\n",
        "saved_model.eval()"
      ],
      "execution_count": 13,
      "outputs": [
        {
          "output_type": "execute_result",
          "data": {
            "text/plain": [
              "Net(\n",
              "  (fc1): Linear(in_features=784, out_features=512, bias=True)\n",
              "  (fc2): Linear(in_features=512, out_features=128, bias=True)\n",
              "  (fc3): Linear(in_features=128, out_features=32, bias=True)\n",
              "  (fc4): Linear(in_features=32, out_features=10, bias=True)\n",
              ")"
            ]
          },
          "metadata": {},
          "execution_count": 13
        }
      ]
    },
    {
      "cell_type": "code",
      "source": [
        "correct = 0\n",
        "total = 0\n",
        "# do đang thực hiện việc dự đoán nên ko cần tính đạo hàm\n",
        "with torch.no_grad():\n",
        "    for data in testloader:\n",
        "        inputs, labels = data\n",
        "        # chạy hàm dự đoán\n",
        "        outputs = saved_model(inputs)\n",
        "        # the class với giá trị xác suất cao nhất là đâu ra dự đoán\n",
        "        _, predicted = torch.max(outputs.data, 1)\n",
        "        total += labels.size(0)\n",
        "        correct += (predicted == labels).sum().item()\n",
        "\n",
        "print('Accuracy of the network on the 10000 test images: %d %%' % (\n",
        "    100 * correct / total))"
      ],
      "metadata": {
        "colab": {
          "base_uri": "https://localhost:8080/"
        },
        "id": "n_8z2pgGc2XV",
        "outputId": "92ac49a1-adf1-4380-82aa-f93b666aa2d2"
      },
      "execution_count": 14,
      "outputs": [
        {
          "output_type": "stream",
          "name": "stdout",
          "text": [
            "Accuracy of the network on the 10000 test images: 88 %\n"
          ]
        }
      ]
    }
  ]
}